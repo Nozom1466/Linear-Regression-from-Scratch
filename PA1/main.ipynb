{
 "cells": [
  {
   "cell_type": "markdown",
   "metadata": {},
   "source": [
    "# 使用回归方法预测行星尺寸\n",
    "这是一个根据kaggle上行星数据集预测行星尺寸的数据预测分析笔记本。\n",
    "## 0.引入包"
   ]
  },
  {
   "cell_type": "code",
   "execution_count": 2,
   "metadata": {},
   "outputs": [],
   "source": [
    "import pandas as pd \n",
    "import numpy as np\n",
    "import matplotlib.pyplot as plt \n",
    "import seaborn as sns \n",
    "\n",
    "import warnings\n",
    "warnings.simplefilter(action='ignore',category=FutureWarning)"
   ]
  },
  {
   "cell_type": "markdown",
   "metadata": {},
   "source": [
    "## 1. 原始数据加载"
   ]
  },
  {
   "cell_type": "code",
   "execution_count": 3,
   "metadata": {},
   "outputs": [
    {
     "name": "stderr",
     "output_type": "stream",
     "text": [
      "/var/folders/hb/9qr23dms0lg2_mgzzyhsqyhh0000gn/T/ipykernel_1482/32122648.py:1: DtypeWarning: Columns (0,10,15,16,23,24) have mixed types. Specify dtype option on import or set low_memory=False.\n",
      "  df = pd.read_csv('./Asteroid_Updated.csv')\n"
     ]
    }
   ],
   "source": [
    "df = pd.read_csv('./Asteroid_Updated.csv')"
   ]
  },
  {
   "cell_type": "markdown",
   "metadata": {},
   "source": [
    "### 数据格式展示\n",
    "下面展示数据的一些样例。"
   ]
  },
  {
   "cell_type": "code",
   "execution_count": 4,
   "metadata": {},
   "outputs": [
    {
     "data": {
      "text/html": [
       "<div>\n",
       "<style scoped>\n",
       "    .dataframe tbody tr th:only-of-type {\n",
       "        vertical-align: middle;\n",
       "    }\n",
       "\n",
       "    .dataframe tbody tr th {\n",
       "        vertical-align: top;\n",
       "    }\n",
       "\n",
       "    .dataframe thead th {\n",
       "        text-align: right;\n",
       "    }\n",
       "</style>\n",
       "<table border=\"1\" class=\"dataframe\">\n",
       "  <thead>\n",
       "    <tr style=\"text-align: right;\">\n",
       "      <th></th>\n",
       "      <th>name</th>\n",
       "      <th>a</th>\n",
       "      <th>e</th>\n",
       "      <th>i</th>\n",
       "      <th>om</th>\n",
       "      <th>w</th>\n",
       "      <th>q</th>\n",
       "      <th>ad</th>\n",
       "      <th>per_y</th>\n",
       "      <th>data_arc</th>\n",
       "      <th>...</th>\n",
       "      <th>UB</th>\n",
       "      <th>IR</th>\n",
       "      <th>spec_B</th>\n",
       "      <th>spec_T</th>\n",
       "      <th>G</th>\n",
       "      <th>moid</th>\n",
       "      <th>class</th>\n",
       "      <th>n</th>\n",
       "      <th>per</th>\n",
       "      <th>ma</th>\n",
       "    </tr>\n",
       "  </thead>\n",
       "  <tbody>\n",
       "    <tr>\n",
       "      <th>0</th>\n",
       "      <td>Ceres</td>\n",
       "      <td>2.769165</td>\n",
       "      <td>0.076009</td>\n",
       "      <td>10.594067</td>\n",
       "      <td>80.305532</td>\n",
       "      <td>73.597694</td>\n",
       "      <td>2.558684</td>\n",
       "      <td>2.979647</td>\n",
       "      <td>4.608202</td>\n",
       "      <td>8822.0</td>\n",
       "      <td>...</td>\n",
       "      <td>0.426</td>\n",
       "      <td>NaN</td>\n",
       "      <td>C</td>\n",
       "      <td>G</td>\n",
       "      <td>0.12</td>\n",
       "      <td>1.59478</td>\n",
       "      <td>MBA</td>\n",
       "      <td>0.213885</td>\n",
       "      <td>1683.145708</td>\n",
       "      <td>77.372096</td>\n",
       "    </tr>\n",
       "    <tr>\n",
       "      <th>1</th>\n",
       "      <td>Pallas</td>\n",
       "      <td>2.772466</td>\n",
       "      <td>0.230337</td>\n",
       "      <td>34.836234</td>\n",
       "      <td>173.080063</td>\n",
       "      <td>310.048857</td>\n",
       "      <td>2.133865</td>\n",
       "      <td>3.411067</td>\n",
       "      <td>4.616444</td>\n",
       "      <td>72318.0</td>\n",
       "      <td>...</td>\n",
       "      <td>0.284</td>\n",
       "      <td>NaN</td>\n",
       "      <td>B</td>\n",
       "      <td>B</td>\n",
       "      <td>0.11</td>\n",
       "      <td>1.23324</td>\n",
       "      <td>MBA</td>\n",
       "      <td>0.213503</td>\n",
       "      <td>1686.155999</td>\n",
       "      <td>59.699133</td>\n",
       "    </tr>\n",
       "    <tr>\n",
       "      <th>2</th>\n",
       "      <td>Juno</td>\n",
       "      <td>2.669150</td>\n",
       "      <td>0.256942</td>\n",
       "      <td>12.988919</td>\n",
       "      <td>169.852760</td>\n",
       "      <td>248.138626</td>\n",
       "      <td>1.983332</td>\n",
       "      <td>3.354967</td>\n",
       "      <td>4.360814</td>\n",
       "      <td>72684.0</td>\n",
       "      <td>...</td>\n",
       "      <td>0.433</td>\n",
       "      <td>NaN</td>\n",
       "      <td>Sk</td>\n",
       "      <td>S</td>\n",
       "      <td>0.32</td>\n",
       "      <td>1.03454</td>\n",
       "      <td>MBA</td>\n",
       "      <td>0.226019</td>\n",
       "      <td>1592.787285</td>\n",
       "      <td>34.925016</td>\n",
       "    </tr>\n",
       "    <tr>\n",
       "      <th>3</th>\n",
       "      <td>Vesta</td>\n",
       "      <td>2.361418</td>\n",
       "      <td>0.088721</td>\n",
       "      <td>7.141771</td>\n",
       "      <td>103.810804</td>\n",
       "      <td>150.728541</td>\n",
       "      <td>2.151909</td>\n",
       "      <td>2.570926</td>\n",
       "      <td>3.628837</td>\n",
       "      <td>24288.0</td>\n",
       "      <td>...</td>\n",
       "      <td>0.492</td>\n",
       "      <td>NaN</td>\n",
       "      <td>V</td>\n",
       "      <td>V</td>\n",
       "      <td>0.32</td>\n",
       "      <td>1.13948</td>\n",
       "      <td>MBA</td>\n",
       "      <td>0.271609</td>\n",
       "      <td>1325.432765</td>\n",
       "      <td>95.861936</td>\n",
       "    </tr>\n",
       "    <tr>\n",
       "      <th>4</th>\n",
       "      <td>Astraea</td>\n",
       "      <td>2.574249</td>\n",
       "      <td>0.191095</td>\n",
       "      <td>5.366988</td>\n",
       "      <td>141.576605</td>\n",
       "      <td>358.687607</td>\n",
       "      <td>2.082324</td>\n",
       "      <td>3.066174</td>\n",
       "      <td>4.130323</td>\n",
       "      <td>63507.0</td>\n",
       "      <td>...</td>\n",
       "      <td>0.411</td>\n",
       "      <td>NaN</td>\n",
       "      <td>S</td>\n",
       "      <td>S</td>\n",
       "      <td>NaN</td>\n",
       "      <td>1.09589</td>\n",
       "      <td>MBA</td>\n",
       "      <td>0.238632</td>\n",
       "      <td>1508.600458</td>\n",
       "      <td>282.366289</td>\n",
       "    </tr>\n",
       "  </tbody>\n",
       "</table>\n",
       "<p>5 rows × 31 columns</p>\n",
       "</div>"
      ],
      "text/plain": [
       "      name         a         e          i          om           w         q  \\\n",
       "0    Ceres  2.769165  0.076009  10.594067   80.305532   73.597694  2.558684   \n",
       "1   Pallas  2.772466  0.230337  34.836234  173.080063  310.048857  2.133865   \n",
       "2     Juno  2.669150  0.256942  12.988919  169.852760  248.138626  1.983332   \n",
       "3    Vesta  2.361418  0.088721   7.141771  103.810804  150.728541  2.151909   \n",
       "4  Astraea  2.574249  0.191095   5.366988  141.576605  358.687607  2.082324   \n",
       "\n",
       "         ad     per_y  data_arc  ...     UB  IR  spec_B spec_T     G     moid  \\\n",
       "0  2.979647  4.608202    8822.0  ...  0.426 NaN       C      G  0.12  1.59478   \n",
       "1  3.411067  4.616444   72318.0  ...  0.284 NaN       B      B  0.11  1.23324   \n",
       "2  3.354967  4.360814   72684.0  ...  0.433 NaN      Sk      S  0.32  1.03454   \n",
       "3  2.570926  3.628837   24288.0  ...  0.492 NaN       V      V  0.32  1.13948   \n",
       "4  3.066174  4.130323   63507.0  ...  0.411 NaN       S      S   NaN  1.09589   \n",
       "\n",
       "  class         n          per          ma  \n",
       "0   MBA  0.213885  1683.145708   77.372096  \n",
       "1   MBA  0.213503  1686.155999   59.699133  \n",
       "2   MBA  0.226019  1592.787285   34.925016  \n",
       "3   MBA  0.271609  1325.432765   95.861936  \n",
       "4   MBA  0.238632  1508.600458  282.366289  \n",
       "\n",
       "[5 rows x 31 columns]"
      ]
     },
     "execution_count": 4,
     "metadata": {},
     "output_type": "execute_result"
    }
   ],
   "source": [
    "df.head()"
   ]
  },
  {
   "cell_type": "markdown",
   "metadata": {},
   "source": [
    "### 数据的列展示"
   ]
  },
  {
   "cell_type": "code",
   "execution_count": 5,
   "metadata": {},
   "outputs": [
    {
     "data": {
      "text/plain": [
       "Index(['name', 'a', 'e', 'i', 'om', 'w', 'q', 'ad', 'per_y', 'data_arc',\n",
       "       'condition_code', 'n_obs_used', 'H', 'neo', 'pha', 'diameter', 'extent',\n",
       "       'albedo', 'rot_per', 'GM', 'BV', 'UB', 'IR', 'spec_B', 'spec_T', 'G',\n",
       "       'moid', 'class', 'n', 'per', 'ma'],\n",
       "      dtype='object')"
      ]
     },
     "execution_count": 5,
     "metadata": {},
     "output_type": "execute_result"
    }
   ],
   "source": [
    "df.columns"
   ]
  },
  {
   "cell_type": "markdown",
   "metadata": {},
   "source": [
    "### 展示缺失数据"
   ]
  },
  {
   "cell_type": "code",
   "execution_count": 6,
   "metadata": {},
   "outputs": [
    {
     "data": {
      "text/html": [
       "<div>\n",
       "<style scoped>\n",
       "    .dataframe tbody tr th:only-of-type {\n",
       "        vertical-align: middle;\n",
       "    }\n",
       "\n",
       "    .dataframe tbody tr th {\n",
       "        vertical-align: top;\n",
       "    }\n",
       "\n",
       "    .dataframe thead th {\n",
       "        text-align: right;\n",
       "    }\n",
       "</style>\n",
       "<table border=\"1\" class=\"dataframe\">\n",
       "  <thead>\n",
       "    <tr style=\"text-align: right;\">\n",
       "      <th></th>\n",
       "      <th>count</th>\n",
       "      <th>%</th>\n",
       "    </tr>\n",
       "  </thead>\n",
       "  <tbody>\n",
       "    <tr>\n",
       "      <th>e</th>\n",
       "      <td>0</td>\n",
       "      <td>0.000000</td>\n",
       "    </tr>\n",
       "    <tr>\n",
       "      <th>i</th>\n",
       "      <td>0</td>\n",
       "      <td>0.000000</td>\n",
       "    </tr>\n",
       "    <tr>\n",
       "      <th>om</th>\n",
       "      <td>0</td>\n",
       "      <td>0.000000</td>\n",
       "    </tr>\n",
       "    <tr>\n",
       "      <th>w</th>\n",
       "      <td>0</td>\n",
       "      <td>0.000000</td>\n",
       "    </tr>\n",
       "    <tr>\n",
       "      <th>q</th>\n",
       "      <td>0</td>\n",
       "      <td>0.000000</td>\n",
       "    </tr>\n",
       "    <tr>\n",
       "      <th>class</th>\n",
       "      <td>0</td>\n",
       "      <td>0.000000</td>\n",
       "    </tr>\n",
       "    <tr>\n",
       "      <th>n_obs_used</th>\n",
       "      <td>0</td>\n",
       "      <td>0.000000</td>\n",
       "    </tr>\n",
       "    <tr>\n",
       "      <th>per_y</th>\n",
       "      <td>1</td>\n",
       "      <td>0.000119</td>\n",
       "    </tr>\n",
       "    <tr>\n",
       "      <th>a</th>\n",
       "      <td>2</td>\n",
       "      <td>0.000238</td>\n",
       "    </tr>\n",
       "    <tr>\n",
       "      <th>n</th>\n",
       "      <td>2</td>\n",
       "      <td>0.000238</td>\n",
       "    </tr>\n",
       "    <tr>\n",
       "      <th>ad</th>\n",
       "      <td>6</td>\n",
       "      <td>0.000715</td>\n",
       "    </tr>\n",
       "    <tr>\n",
       "      <th>neo</th>\n",
       "      <td>6</td>\n",
       "      <td>0.000715</td>\n",
       "    </tr>\n",
       "    <tr>\n",
       "      <th>per</th>\n",
       "      <td>6</td>\n",
       "      <td>0.000715</td>\n",
       "    </tr>\n",
       "    <tr>\n",
       "      <th>ma</th>\n",
       "      <td>8</td>\n",
       "      <td>0.000953</td>\n",
       "    </tr>\n",
       "    <tr>\n",
       "      <th>condition_code</th>\n",
       "      <td>867</td>\n",
       "      <td>0.103249</td>\n",
       "    </tr>\n",
       "    <tr>\n",
       "      <th>H</th>\n",
       "      <td>2689</td>\n",
       "      <td>0.320228</td>\n",
       "    </tr>\n",
       "    <tr>\n",
       "      <th>data_arc</th>\n",
       "      <td>15474</td>\n",
       "      <td>1.842770</td>\n",
       "    </tr>\n",
       "    <tr>\n",
       "      <th>pha</th>\n",
       "      <td>16442</td>\n",
       "      <td>1.958048</td>\n",
       "    </tr>\n",
       "    <tr>\n",
       "      <th>moid</th>\n",
       "      <td>16442</td>\n",
       "      <td>1.958048</td>\n",
       "    </tr>\n",
       "    <tr>\n",
       "      <th>diameter</th>\n",
       "      <td>702078</td>\n",
       "      <td>83.609181</td>\n",
       "    </tr>\n",
       "    <tr>\n",
       "      <th>albedo</th>\n",
       "      <td>703305</td>\n",
       "      <td>83.755302</td>\n",
       "    </tr>\n",
       "    <tr>\n",
       "      <th>name</th>\n",
       "      <td>817746</td>\n",
       "      <td>97.383871</td>\n",
       "    </tr>\n",
       "    <tr>\n",
       "      <th>rot_per</th>\n",
       "      <td>820918</td>\n",
       "      <td>97.761619</td>\n",
       "    </tr>\n",
       "    <tr>\n",
       "      <th>spec_B</th>\n",
       "      <td>838048</td>\n",
       "      <td>99.801599</td>\n",
       "    </tr>\n",
       "    <tr>\n",
       "      <th>BV</th>\n",
       "      <td>838693</td>\n",
       "      <td>99.878411</td>\n",
       "    </tr>\n",
       "    <tr>\n",
       "      <th>spec_T</th>\n",
       "      <td>838734</td>\n",
       "      <td>99.883294</td>\n",
       "    </tr>\n",
       "    <tr>\n",
       "      <th>UB</th>\n",
       "      <td>838735</td>\n",
       "      <td>99.883413</td>\n",
       "    </tr>\n",
       "    <tr>\n",
       "      <th>G</th>\n",
       "      <td>839595</td>\n",
       "      <td>99.985829</td>\n",
       "    </tr>\n",
       "    <tr>\n",
       "      <th>extent</th>\n",
       "      <td>839696</td>\n",
       "      <td>99.997856</td>\n",
       "    </tr>\n",
       "    <tr>\n",
       "      <th>GM</th>\n",
       "      <td>839700</td>\n",
       "      <td>99.998333</td>\n",
       "    </tr>\n",
       "    <tr>\n",
       "      <th>IR</th>\n",
       "      <td>839713</td>\n",
       "      <td>99.999881</td>\n",
       "    </tr>\n",
       "  </tbody>\n",
       "</table>\n",
       "</div>"
      ],
      "text/plain": [
       "                 count          %\n",
       "e                    0   0.000000\n",
       "i                    0   0.000000\n",
       "om                   0   0.000000\n",
       "w                    0   0.000000\n",
       "q                    0   0.000000\n",
       "class                0   0.000000\n",
       "n_obs_used           0   0.000000\n",
       "per_y                1   0.000119\n",
       "a                    2   0.000238\n",
       "n                    2   0.000238\n",
       "ad                   6   0.000715\n",
       "neo                  6   0.000715\n",
       "per                  6   0.000715\n",
       "ma                   8   0.000953\n",
       "condition_code     867   0.103249\n",
       "H                 2689   0.320228\n",
       "data_arc         15474   1.842770\n",
       "pha              16442   1.958048\n",
       "moid             16442   1.958048\n",
       "diameter        702078  83.609181\n",
       "albedo          703305  83.755302\n",
       "name            817746  97.383871\n",
       "rot_per         820918  97.761619\n",
       "spec_B          838048  99.801599\n",
       "BV              838693  99.878411\n",
       "spec_T          838734  99.883294\n",
       "UB              838735  99.883413\n",
       "G               839595  99.985829\n",
       "extent          839696  99.997856\n",
       "GM              839700  99.998333\n",
       "IR              839713  99.999881"
      ]
     },
     "execution_count": 6,
     "metadata": {},
     "output_type": "execute_result"
    }
   ],
   "source": [
    "missing= pd.concat([pd.isnull(df).sum(), 100 * pd.isnull(df).mean()], axis=1)\n",
    "missing.columns=['count', '%']\n",
    "missing.sort_values(by=['count'])"
   ]
  },
  {
   "cell_type": "markdown",
   "metadata": {},
   "source": [
    "### 展示可以用于学习的总行数"
   ]
  },
  {
   "cell_type": "code",
   "execution_count": 7,
   "metadata": {},
   "outputs": [
    {
     "data": {
      "text/plain": [
       "137636"
      ]
     },
     "execution_count": 7,
     "metadata": {},
     "output_type": "execute_result"
    }
   ],
   "source": [
    "valid_rows = df['diameter'].notnull().sum()\n",
    "valid_rows"
   ]
  },
  {
   "cell_type": "markdown",
   "metadata": {},
   "source": [
    "### 删除diameter元素为空的行"
   ]
  },
  {
   "cell_type": "code",
   "execution_count": 8,
   "metadata": {},
   "outputs": [
    {
     "data": {
      "text/plain": [
       "137636"
      ]
     },
     "execution_count": 8,
     "metadata": {},
     "output_type": "execute_result"
    }
   ],
   "source": [
    "df = df.dropna(axis=0,subset=['diameter'])\n",
    "\n",
    "len(df.index)"
   ]
  },
  {
   "cell_type": "markdown",
   "metadata": {},
   "source": [
    "### 摘除无效数据之后的数据值"
   ]
  },
  {
   "cell_type": "code",
   "execution_count": 10,
   "metadata": {},
   "outputs": [
    {
     "data": {
      "text/html": [
       "<div>\n",
       "<style scoped>\n",
       "    .dataframe tbody tr th:only-of-type {\n",
       "        vertical-align: middle;\n",
       "    }\n",
       "\n",
       "    .dataframe tbody tr th {\n",
       "        vertical-align: top;\n",
       "    }\n",
       "\n",
       "    .dataframe thead th {\n",
       "        text-align: right;\n",
       "    }\n",
       "</style>\n",
       "<table border=\"1\" class=\"dataframe\">\n",
       "  <thead>\n",
       "    <tr style=\"text-align: right;\">\n",
       "      <th></th>\n",
       "      <th>count</th>\n",
       "      <th>%</th>\n",
       "    </tr>\n",
       "  </thead>\n",
       "  <tbody>\n",
       "    <tr>\n",
       "      <th>diameter</th>\n",
       "      <td>0</td>\n",
       "      <td>0.000000</td>\n",
       "    </tr>\n",
       "    <tr>\n",
       "      <th>n</th>\n",
       "      <td>0</td>\n",
       "      <td>0.000000</td>\n",
       "    </tr>\n",
       "    <tr>\n",
       "      <th>class</th>\n",
       "      <td>0</td>\n",
       "      <td>0.000000</td>\n",
       "    </tr>\n",
       "    <tr>\n",
       "      <th>moid</th>\n",
       "      <td>0</td>\n",
       "      <td>0.000000</td>\n",
       "    </tr>\n",
       "    <tr>\n",
       "      <th>per</th>\n",
       "      <td>0</td>\n",
       "      <td>0.000000</td>\n",
       "    </tr>\n",
       "    <tr>\n",
       "      <th>pha</th>\n",
       "      <td>0</td>\n",
       "      <td>0.000000</td>\n",
       "    </tr>\n",
       "    <tr>\n",
       "      <th>neo</th>\n",
       "      <td>0</td>\n",
       "      <td>0.000000</td>\n",
       "    </tr>\n",
       "    <tr>\n",
       "      <th>n_obs_used</th>\n",
       "      <td>0</td>\n",
       "      <td>0.000000</td>\n",
       "    </tr>\n",
       "    <tr>\n",
       "      <th>condition_code</th>\n",
       "      <td>0</td>\n",
       "      <td>0.000000</td>\n",
       "    </tr>\n",
       "    <tr>\n",
       "      <th>ma</th>\n",
       "      <td>0</td>\n",
       "      <td>0.000000</td>\n",
       "    </tr>\n",
       "    <tr>\n",
       "      <th>per_y</th>\n",
       "      <td>0</td>\n",
       "      <td>0.000000</td>\n",
       "    </tr>\n",
       "    <tr>\n",
       "      <th>ad</th>\n",
       "      <td>0</td>\n",
       "      <td>0.000000</td>\n",
       "    </tr>\n",
       "    <tr>\n",
       "      <th>q</th>\n",
       "      <td>0</td>\n",
       "      <td>0.000000</td>\n",
       "    </tr>\n",
       "    <tr>\n",
       "      <th>w</th>\n",
       "      <td>0</td>\n",
       "      <td>0.000000</td>\n",
       "    </tr>\n",
       "    <tr>\n",
       "      <th>om</th>\n",
       "      <td>0</td>\n",
       "      <td>0.000000</td>\n",
       "    </tr>\n",
       "    <tr>\n",
       "      <th>a</th>\n",
       "      <td>0</td>\n",
       "      <td>0.000000</td>\n",
       "    </tr>\n",
       "    <tr>\n",
       "      <th>e</th>\n",
       "      <td>0</td>\n",
       "      <td>0.000000</td>\n",
       "    </tr>\n",
       "    <tr>\n",
       "      <th>i</th>\n",
       "      <td>0</td>\n",
       "      <td>0.000000</td>\n",
       "    </tr>\n",
       "    <tr>\n",
       "      <th>data_arc</th>\n",
       "      <td>138</td>\n",
       "      <td>0.100264</td>\n",
       "    </tr>\n",
       "    <tr>\n",
       "      <th>H</th>\n",
       "      <td>747</td>\n",
       "      <td>0.542736</td>\n",
       "    </tr>\n",
       "    <tr>\n",
       "      <th>albedo</th>\n",
       "      <td>1230</td>\n",
       "      <td>0.893662</td>\n",
       "    </tr>\n",
       "    <tr>\n",
       "      <th>name</th>\n",
       "      <td>122512</td>\n",
       "      <td>89.011596</td>\n",
       "    </tr>\n",
       "    <tr>\n",
       "      <th>rot_per</th>\n",
       "      <td>126448</td>\n",
       "      <td>91.871313</td>\n",
       "    </tr>\n",
       "    <tr>\n",
       "      <th>spec_B</th>\n",
       "      <td>136266</td>\n",
       "      <td>99.004621</td>\n",
       "    </tr>\n",
       "    <tr>\n",
       "      <th>BV</th>\n",
       "      <td>136631</td>\n",
       "      <td>99.269813</td>\n",
       "    </tr>\n",
       "    <tr>\n",
       "      <th>spec_T</th>\n",
       "      <td>136671</td>\n",
       "      <td>99.298875</td>\n",
       "    </tr>\n",
       "    <tr>\n",
       "      <th>UB</th>\n",
       "      <td>136671</td>\n",
       "      <td>99.298875</td>\n",
       "    </tr>\n",
       "    <tr>\n",
       "      <th>G</th>\n",
       "      <td>137517</td>\n",
       "      <td>99.913540</td>\n",
       "    </tr>\n",
       "    <tr>\n",
       "      <th>extent</th>\n",
       "      <td>137620</td>\n",
       "      <td>99.988375</td>\n",
       "    </tr>\n",
       "    <tr>\n",
       "      <th>GM</th>\n",
       "      <td>137622</td>\n",
       "      <td>99.989828</td>\n",
       "    </tr>\n",
       "    <tr>\n",
       "      <th>IR</th>\n",
       "      <td>137635</td>\n",
       "      <td>99.999273</td>\n",
       "    </tr>\n",
       "  </tbody>\n",
       "</table>\n",
       "</div>"
      ],
      "text/plain": [
       "                 count          %\n",
       "diameter             0   0.000000\n",
       "n                    0   0.000000\n",
       "class                0   0.000000\n",
       "moid                 0   0.000000\n",
       "per                  0   0.000000\n",
       "pha                  0   0.000000\n",
       "neo                  0   0.000000\n",
       "n_obs_used           0   0.000000\n",
       "condition_code       0   0.000000\n",
       "ma                   0   0.000000\n",
       "per_y                0   0.000000\n",
       "ad                   0   0.000000\n",
       "q                    0   0.000000\n",
       "w                    0   0.000000\n",
       "om                   0   0.000000\n",
       "a                    0   0.000000\n",
       "e                    0   0.000000\n",
       "i                    0   0.000000\n",
       "data_arc           138   0.100264\n",
       "H                  747   0.542736\n",
       "albedo            1230   0.893662\n",
       "name            122512  89.011596\n",
       "rot_per         126448  91.871313\n",
       "spec_B          136266  99.004621\n",
       "BV              136631  99.269813\n",
       "spec_T          136671  99.298875\n",
       "UB              136671  99.298875\n",
       "G               137517  99.913540\n",
       "extent          137620  99.988375\n",
       "GM              137622  99.989828\n",
       "IR              137635  99.999273"
      ]
     },
     "execution_count": 10,
     "metadata": {},
     "output_type": "execute_result"
    }
   ],
   "source": [
    "missing= pd.concat([pd.isnull(df).sum(), 100 * pd.isnull(df).mean()], axis=1)\n",
    "missing.columns=['count', '%']\n",
    "missing.sort_values(by=['count'])"
   ]
  },
  {
   "cell_type": "markdown",
   "metadata": {},
   "source": [
    "### 继续摘除无效的原始数据"
   ]
  },
  {
   "cell_type": "code",
   "execution_count": 17,
   "metadata": {},
   "outputs": [
    {
     "data": {
      "text/plain": [
       "19"
      ]
     },
     "execution_count": 17,
     "metadata": {},
     "output_type": "execute_result"
    }
   ],
   "source": [
    "drop_list = ['H','albedo','name','rot_per','spec_B',\n",
    "             'BV','spec_T','UB','G',\n",
    "             'extent','GM','IR']\n",
    "# df.drop(drop_list, axis=1, inplace=True)\n",
    "len(df.columns)"
   ]
  },
  {
   "cell_type": "markdown",
   "metadata": {},
   "source": [
    "### 得到最终需要处理的数据组"
   ]
  },
  {
   "cell_type": "code",
   "execution_count": 20,
   "metadata": {},
   "outputs": [
    {
     "data": {
      "text/plain": [
       "a                 float64\n",
       "e                 float64\n",
       "i                 float64\n",
       "om                float64\n",
       "w                 float64\n",
       "q                 float64\n",
       "ad                float64\n",
       "per_y             float64\n",
       "data_arc          float64\n",
       "condition_code     object\n",
       "n_obs_used          int64\n",
       "neo                object\n",
       "pha                object\n",
       "diameter           object\n",
       "moid              float64\n",
       "class              object\n",
       "n                 float64\n",
       "per               float64\n",
       "ma                float64\n",
       "dtype: object"
      ]
     },
     "execution_count": 20,
     "metadata": {},
     "output_type": "execute_result"
    }
   ],
   "source": [
    "df.dtypes"
   ]
  },
  {
   "cell_type": "markdown",
   "metadata": {},
   "source": [
    "## 2.特征工程"
   ]
  },
  {
   "cell_type": "markdown",
   "metadata": {},
   "source": [
    "### 对`object`对象进行特征工程"
   ]
  },
  {
   "cell_type": "code",
   "execution_count": 23,
   "metadata": {},
   "outputs": [
    {
     "data": {
      "text/html": [
       "<div>\n",
       "<style scoped>\n",
       "    .dataframe tbody tr th:only-of-type {\n",
       "        vertical-align: middle;\n",
       "    }\n",
       "\n",
       "    .dataframe tbody tr th {\n",
       "        vertical-align: top;\n",
       "    }\n",
       "\n",
       "    .dataframe thead th {\n",
       "        text-align: right;\n",
       "    }\n",
       "</style>\n",
       "<table border=\"1\" class=\"dataframe\">\n",
       "  <thead>\n",
       "    <tr style=\"text-align: right;\">\n",
       "      <th></th>\n",
       "      <th>condition_code</th>\n",
       "      <th>neo</th>\n",
       "      <th>pha</th>\n",
       "      <th>diameter</th>\n",
       "      <th>class</th>\n",
       "    </tr>\n",
       "  </thead>\n",
       "  <tbody>\n",
       "    <tr>\n",
       "      <th>797860</th>\n",
       "      <td>1</td>\n",
       "      <td>N</td>\n",
       "      <td>N</td>\n",
       "      <td>3.793</td>\n",
       "      <td>MBA</td>\n",
       "    </tr>\n",
       "    <tr>\n",
       "      <th>798077</th>\n",
       "      <td>2</td>\n",
       "      <td>N</td>\n",
       "      <td>N</td>\n",
       "      <td>2.696</td>\n",
       "      <td>MBA</td>\n",
       "    </tr>\n",
       "    <tr>\n",
       "      <th>798189</th>\n",
       "      <td>1</td>\n",
       "      <td>N</td>\n",
       "      <td>N</td>\n",
       "      <td>2.917</td>\n",
       "      <td>MBA</td>\n",
       "    </tr>\n",
       "    <tr>\n",
       "      <th>799752</th>\n",
       "      <td>2</td>\n",
       "      <td>N</td>\n",
       "      <td>N</td>\n",
       "      <td>3.271</td>\n",
       "      <td>MBA</td>\n",
       "    </tr>\n",
       "    <tr>\n",
       "      <th>810375</th>\n",
       "      <td>3</td>\n",
       "      <td>N</td>\n",
       "      <td>N</td>\n",
       "      <td>1.6</td>\n",
       "      <td>MBA</td>\n",
       "    </tr>\n",
       "  </tbody>\n",
       "</table>\n",
       "</div>"
      ],
      "text/plain": [
       "       condition_code neo pha diameter class\n",
       "797860              1   N   N    3.793   MBA\n",
       "798077              2   N   N    2.696   MBA\n",
       "798189              1   N   N    2.917   MBA\n",
       "799752              2   N   N    3.271   MBA\n",
       "810375              3   N   N      1.6   MBA"
      ]
     },
     "execution_count": 23,
     "metadata": {},
     "output_type": "execute_result"
    }
   ],
   "source": [
    "df.select_dtypes('object').tail()"
   ]
  },
  {
   "cell_type": "code",
   "execution_count": 27,
   "metadata": {},
   "outputs": [],
   "source": [
    "# 处理diameter\n",
    "# 由于原始数据出现有一行格式不统一，在转换的时候需要重新处理这一行的数据，便于运用pd的to_numeric函数\n",
    "df.at[15,'diameter'] = 226\n",
    "df['diameter'] = pd.to_numeric(df['diameter'])"
   ]
  },
  {
   "cell_type": "code",
   "execution_count": 34,
   "metadata": {},
   "outputs": [
    {
     "data": {
      "text/plain": [
       "array([0, 1, 3, 2, 4, 5, 9, 7, 6, 8])"
      ]
     },
     "execution_count": 34,
     "metadata": {},
     "output_type": "execute_result"
    }
   ],
   "source": [
    "# 处理condition_code\n",
    "# 下面将这个数据段的内容读取出来换成唯一的数据值\n",
    "df['condition_code'] = df['condition_code'].astype('int64')\n",
    "\n",
    "df.condition_code.unique()"
   ]
  },
  {
   "cell_type": "code",
   "execution_count": 49,
   "metadata": {},
   "outputs": [
    {
     "data": {
      "text/plain": [
       "neo\n",
       "N    136786\n",
       "Y       850\n",
       "Name: count, dtype: int64"
      ]
     },
     "execution_count": 49,
     "metadata": {},
     "output_type": "execute_result"
    }
   ],
   "source": [
    "# 处理neo 原始只有N和Y两组\n",
    "df.neo.unique()\n",
    "df['neo'].value_counts()"
   ]
  },
  {
   "cell_type": "code",
   "execution_count": 45,
   "metadata": {},
   "outputs": [
    {
     "data": {
      "text/plain": [
       "pha\n",
       "N    137415\n",
       "Y       221\n",
       "Name: count, dtype: int64"
      ]
     },
     "execution_count": 45,
     "metadata": {},
     "output_type": "execute_result"
    }
   ],
   "source": [
    "# 处理pha，原始只有N和Y两组\n",
    "df.pha.unique()\n",
    "df['pha'].value_counts()"
   ]
  },
  {
   "cell_type": "code",
   "execution_count": 46,
   "metadata": {},
   "outputs": [
    {
     "data": {
      "text/plain": [
       "class\n",
       "MBA    126390\n",
       "OMB      7510\n",
       "TJN      1874\n",
       "IMB       588\n",
       "APO       486\n",
       "MCA       355\n",
       "AMO       269\n",
       "ATE        95\n",
       "CEN        49\n",
       "TNO        13\n",
       "AST         7\n",
       "Name: count, dtype: int64"
      ]
     },
     "execution_count": 46,
     "metadata": {},
     "output_type": "execute_result"
    }
   ],
   "source": [
    "df['class'].unique()\n",
    "df['class'].value_counts()"
   ]
  },
  {
   "cell_type": "markdown",
   "metadata": {},
   "source": [
    "### 展示整数特征\n",
    "主要消除非正常类型对机器学习的影响。"
   ]
  },
  {
   "cell_type": "code",
   "execution_count": 51,
   "metadata": {},
   "outputs": [
    {
     "data": {
      "text/html": [
       "<div>\n",
       "<style scoped>\n",
       "    .dataframe tbody tr th:only-of-type {\n",
       "        vertical-align: middle;\n",
       "    }\n",
       "\n",
       "    .dataframe tbody tr th {\n",
       "        vertical-align: top;\n",
       "    }\n",
       "\n",
       "    .dataframe thead th {\n",
       "        text-align: right;\n",
       "    }\n",
       "</style>\n",
       "<table border=\"1\" class=\"dataframe\">\n",
       "  <thead>\n",
       "    <tr style=\"text-align: right;\">\n",
       "      <th></th>\n",
       "      <th>condition_code</th>\n",
       "      <th>n_obs_used</th>\n",
       "    </tr>\n",
       "  </thead>\n",
       "  <tbody>\n",
       "    <tr>\n",
       "      <th>0</th>\n",
       "      <td>0</td>\n",
       "      <td>1002</td>\n",
       "    </tr>\n",
       "    <tr>\n",
       "      <th>1</th>\n",
       "      <td>0</td>\n",
       "      <td>8490</td>\n",
       "    </tr>\n",
       "    <tr>\n",
       "      <th>2</th>\n",
       "      <td>0</td>\n",
       "      <td>7104</td>\n",
       "    </tr>\n",
       "    <tr>\n",
       "      <th>3</th>\n",
       "      <td>0</td>\n",
       "      <td>9325</td>\n",
       "    </tr>\n",
       "    <tr>\n",
       "      <th>4</th>\n",
       "      <td>0</td>\n",
       "      <td>2916</td>\n",
       "    </tr>\n",
       "    <tr>\n",
       "      <th>...</th>\n",
       "      <td>...</td>\n",
       "      <td>...</td>\n",
       "    </tr>\n",
       "    <tr>\n",
       "      <th>797860</th>\n",
       "      <td>1</td>\n",
       "      <td>50</td>\n",
       "    </tr>\n",
       "    <tr>\n",
       "      <th>798077</th>\n",
       "      <td>2</td>\n",
       "      <td>33</td>\n",
       "    </tr>\n",
       "    <tr>\n",
       "      <th>798189</th>\n",
       "      <td>1</td>\n",
       "      <td>47</td>\n",
       "    </tr>\n",
       "    <tr>\n",
       "      <th>799752</th>\n",
       "      <td>2</td>\n",
       "      <td>27</td>\n",
       "    </tr>\n",
       "    <tr>\n",
       "      <th>810375</th>\n",
       "      <td>3</td>\n",
       "      <td>25</td>\n",
       "    </tr>\n",
       "  </tbody>\n",
       "</table>\n",
       "<p>137636 rows × 2 columns</p>\n",
       "</div>"
      ],
      "text/plain": [
       "        condition_code  n_obs_used\n",
       "0                    0        1002\n",
       "1                    0        8490\n",
       "2                    0        7104\n",
       "3                    0        9325\n",
       "4                    0        2916\n",
       "...                ...         ...\n",
       "797860               1          50\n",
       "798077               2          33\n",
       "798189               1          47\n",
       "799752               2          27\n",
       "810375               3          25\n",
       "\n",
       "[137636 rows x 2 columns]"
      ]
     },
     "execution_count": 51,
     "metadata": {},
     "output_type": "execute_result"
    }
   ],
   "source": [
    "df.select_dtypes('int64')"
   ]
  },
  {
   "cell_type": "markdown",
   "metadata": {},
   "source": [
    "### 展示浮点数特征\n",
    "主要消除正常类型对机器学习的影响。"
   ]
  },
  {
   "cell_type": "code",
   "execution_count": 53,
   "metadata": {},
   "outputs": [
    {
     "data": {
      "text/html": [
       "<div>\n",
       "<style scoped>\n",
       "    .dataframe tbody tr th:only-of-type {\n",
       "        vertical-align: middle;\n",
       "    }\n",
       "\n",
       "    .dataframe tbody tr th {\n",
       "        vertical-align: top;\n",
       "    }\n",
       "\n",
       "    .dataframe thead th {\n",
       "        text-align: right;\n",
       "    }\n",
       "</style>\n",
       "<table border=\"1\" class=\"dataframe\">\n",
       "  <thead>\n",
       "    <tr style=\"text-align: right;\">\n",
       "      <th></th>\n",
       "      <th>a</th>\n",
       "      <th>e</th>\n",
       "      <th>i</th>\n",
       "      <th>om</th>\n",
       "      <th>w</th>\n",
       "      <th>q</th>\n",
       "      <th>ad</th>\n",
       "      <th>per_y</th>\n",
       "      <th>data_arc</th>\n",
       "      <th>diameter</th>\n",
       "      <th>moid</th>\n",
       "      <th>n</th>\n",
       "      <th>per</th>\n",
       "      <th>ma</th>\n",
       "    </tr>\n",
       "  </thead>\n",
       "  <tbody>\n",
       "    <tr>\n",
       "      <th>0</th>\n",
       "      <td>2.769165</td>\n",
       "      <td>0.076009</td>\n",
       "      <td>10.594067</td>\n",
       "      <td>80.305532</td>\n",
       "      <td>73.597694</td>\n",
       "      <td>2.558684</td>\n",
       "      <td>2.979647</td>\n",
       "      <td>4.608202</td>\n",
       "      <td>8822.0</td>\n",
       "      <td>939.400</td>\n",
       "      <td>1.59478</td>\n",
       "      <td>0.213885</td>\n",
       "      <td>1683.145708</td>\n",
       "      <td>77.372096</td>\n",
       "    </tr>\n",
       "    <tr>\n",
       "      <th>1</th>\n",
       "      <td>2.772466</td>\n",
       "      <td>0.230337</td>\n",
       "      <td>34.836234</td>\n",
       "      <td>173.080063</td>\n",
       "      <td>310.048857</td>\n",
       "      <td>2.133865</td>\n",
       "      <td>3.411067</td>\n",
       "      <td>4.616444</td>\n",
       "      <td>72318.0</td>\n",
       "      <td>545.000</td>\n",
       "      <td>1.23324</td>\n",
       "      <td>0.213503</td>\n",
       "      <td>1686.155999</td>\n",
       "      <td>59.699133</td>\n",
       "    </tr>\n",
       "    <tr>\n",
       "      <th>2</th>\n",
       "      <td>2.669150</td>\n",
       "      <td>0.256942</td>\n",
       "      <td>12.988919</td>\n",
       "      <td>169.852760</td>\n",
       "      <td>248.138626</td>\n",
       "      <td>1.983332</td>\n",
       "      <td>3.354967</td>\n",
       "      <td>4.360814</td>\n",
       "      <td>72684.0</td>\n",
       "      <td>246.596</td>\n",
       "      <td>1.03454</td>\n",
       "      <td>0.226019</td>\n",
       "      <td>1592.787285</td>\n",
       "      <td>34.925016</td>\n",
       "    </tr>\n",
       "    <tr>\n",
       "      <th>3</th>\n",
       "      <td>2.361418</td>\n",
       "      <td>0.088721</td>\n",
       "      <td>7.141771</td>\n",
       "      <td>103.810804</td>\n",
       "      <td>150.728541</td>\n",
       "      <td>2.151909</td>\n",
       "      <td>2.570926</td>\n",
       "      <td>3.628837</td>\n",
       "      <td>24288.0</td>\n",
       "      <td>525.400</td>\n",
       "      <td>1.13948</td>\n",
       "      <td>0.271609</td>\n",
       "      <td>1325.432765</td>\n",
       "      <td>95.861936</td>\n",
       "    </tr>\n",
       "    <tr>\n",
       "      <th>4</th>\n",
       "      <td>2.574249</td>\n",
       "      <td>0.191095</td>\n",
       "      <td>5.366988</td>\n",
       "      <td>141.576605</td>\n",
       "      <td>358.687607</td>\n",
       "      <td>2.082324</td>\n",
       "      <td>3.066174</td>\n",
       "      <td>4.130323</td>\n",
       "      <td>63507.0</td>\n",
       "      <td>106.699</td>\n",
       "      <td>1.09589</td>\n",
       "      <td>0.238632</td>\n",
       "      <td>1508.600458</td>\n",
       "      <td>282.366289</td>\n",
       "    </tr>\n",
       "    <tr>\n",
       "      <th>...</th>\n",
       "      <td>...</td>\n",
       "      <td>...</td>\n",
       "      <td>...</td>\n",
       "      <td>...</td>\n",
       "      <td>...</td>\n",
       "      <td>...</td>\n",
       "      <td>...</td>\n",
       "      <td>...</td>\n",
       "      <td>...</td>\n",
       "      <td>...</td>\n",
       "      <td>...</td>\n",
       "      <td>...</td>\n",
       "      <td>...</td>\n",
       "      <td>...</td>\n",
       "    </tr>\n",
       "    <tr>\n",
       "      <th>797860</th>\n",
       "      <td>3.171225</td>\n",
       "      <td>0.159119</td>\n",
       "      <td>27.098625</td>\n",
       "      <td>309.036573</td>\n",
       "      <td>19.746812</td>\n",
       "      <td>2.666623</td>\n",
       "      <td>3.675826</td>\n",
       "      <td>5.647402</td>\n",
       "      <td>2373.0</td>\n",
       "      <td>3.793</td>\n",
       "      <td>1.66301</td>\n",
       "      <td>0.174527</td>\n",
       "      <td>2062.713583</td>\n",
       "      <td>164.999439</td>\n",
       "    </tr>\n",
       "    <tr>\n",
       "      <th>798077</th>\n",
       "      <td>2.548410</td>\n",
       "      <td>0.076071</td>\n",
       "      <td>11.593237</td>\n",
       "      <td>246.298656</td>\n",
       "      <td>170.090810</td>\n",
       "      <td>2.354549</td>\n",
       "      <td>2.742270</td>\n",
       "      <td>4.068291</td>\n",
       "      <td>3297.0</td>\n",
       "      <td>2.696</td>\n",
       "      <td>1.36733</td>\n",
       "      <td>0.242270</td>\n",
       "      <td>1485.943371</td>\n",
       "      <td>145.319581</td>\n",
       "    </tr>\n",
       "    <tr>\n",
       "      <th>798189</th>\n",
       "      <td>3.146246</td>\n",
       "      <td>0.220559</td>\n",
       "      <td>17.966646</td>\n",
       "      <td>137.981403</td>\n",
       "      <td>180.898832</td>\n",
       "      <td>2.452313</td>\n",
       "      <td>3.840180</td>\n",
       "      <td>5.580811</td>\n",
       "      <td>2839.0</td>\n",
       "      <td>2.917</td>\n",
       "      <td>1.43837</td>\n",
       "      <td>0.176610</td>\n",
       "      <td>2038.391053</td>\n",
       "      <td>174.609920</td>\n",
       "    </tr>\n",
       "    <tr>\n",
       "      <th>799752</th>\n",
       "      <td>3.051336</td>\n",
       "      <td>0.287449</td>\n",
       "      <td>14.456779</td>\n",
       "      <td>343.917822</td>\n",
       "      <td>342.614839</td>\n",
       "      <td>2.174231</td>\n",
       "      <td>3.928440</td>\n",
       "      <td>5.330196</td>\n",
       "      <td>2208.0</td>\n",
       "      <td>3.271</td>\n",
       "      <td>1.16684</td>\n",
       "      <td>0.184914</td>\n",
       "      <td>1946.853973</td>\n",
       "      <td>175.708508</td>\n",
       "    </tr>\n",
       "    <tr>\n",
       "      <th>810375</th>\n",
       "      <td>2.417477</td>\n",
       "      <td>0.109001</td>\n",
       "      <td>4.525668</td>\n",
       "      <td>148.244819</td>\n",
       "      <td>31.949854</td>\n",
       "      <td>2.153970</td>\n",
       "      <td>2.680984</td>\n",
       "      <td>3.758822</td>\n",
       "      <td>3458.0</td>\n",
       "      <td>1.600</td>\n",
       "      <td>1.15942</td>\n",
       "      <td>0.262217</td>\n",
       "      <td>1372.909600</td>\n",
       "      <td>170.888415</td>\n",
       "    </tr>\n",
       "  </tbody>\n",
       "</table>\n",
       "<p>137636 rows × 14 columns</p>\n",
       "</div>"
      ],
      "text/plain": [
       "               a         e          i          om           w         q  \\\n",
       "0       2.769165  0.076009  10.594067   80.305532   73.597694  2.558684   \n",
       "1       2.772466  0.230337  34.836234  173.080063  310.048857  2.133865   \n",
       "2       2.669150  0.256942  12.988919  169.852760  248.138626  1.983332   \n",
       "3       2.361418  0.088721   7.141771  103.810804  150.728541  2.151909   \n",
       "4       2.574249  0.191095   5.366988  141.576605  358.687607  2.082324   \n",
       "...          ...       ...        ...         ...         ...       ...   \n",
       "797860  3.171225  0.159119  27.098625  309.036573   19.746812  2.666623   \n",
       "798077  2.548410  0.076071  11.593237  246.298656  170.090810  2.354549   \n",
       "798189  3.146246  0.220559  17.966646  137.981403  180.898832  2.452313   \n",
       "799752  3.051336  0.287449  14.456779  343.917822  342.614839  2.174231   \n",
       "810375  2.417477  0.109001   4.525668  148.244819   31.949854  2.153970   \n",
       "\n",
       "              ad     per_y  data_arc  diameter     moid         n  \\\n",
       "0       2.979647  4.608202    8822.0   939.400  1.59478  0.213885   \n",
       "1       3.411067  4.616444   72318.0   545.000  1.23324  0.213503   \n",
       "2       3.354967  4.360814   72684.0   246.596  1.03454  0.226019   \n",
       "3       2.570926  3.628837   24288.0   525.400  1.13948  0.271609   \n",
       "4       3.066174  4.130323   63507.0   106.699  1.09589  0.238632   \n",
       "...          ...       ...       ...       ...      ...       ...   \n",
       "797860  3.675826  5.647402    2373.0     3.793  1.66301  0.174527   \n",
       "798077  2.742270  4.068291    3297.0     2.696  1.36733  0.242270   \n",
       "798189  3.840180  5.580811    2839.0     2.917  1.43837  0.176610   \n",
       "799752  3.928440  5.330196    2208.0     3.271  1.16684  0.184914   \n",
       "810375  2.680984  3.758822    3458.0     1.600  1.15942  0.262217   \n",
       "\n",
       "                per          ma  \n",
       "0       1683.145708   77.372096  \n",
       "1       1686.155999   59.699133  \n",
       "2       1592.787285   34.925016  \n",
       "3       1325.432765   95.861936  \n",
       "4       1508.600458  282.366289  \n",
       "...             ...         ...  \n",
       "797860  2062.713583  164.999439  \n",
       "798077  1485.943371  145.319581  \n",
       "798189  2038.391053  174.609920  \n",
       "799752  1946.853973  175.708508  \n",
       "810375  1372.909600  170.888415  \n",
       "\n",
       "[137636 rows x 14 columns]"
      ]
     },
     "execution_count": 53,
     "metadata": {},
     "output_type": "execute_result"
    }
   ],
   "source": [
    "df.select_dtypes('float64')"
   ]
  },
  {
   "cell_type": "markdown",
   "metadata": {},
   "source": [
    "### 参数分布\n",
    "使用pd的`df`内置的函数`hist`对于数据中的各个表单项目进行绘制"
   ]
  },
  {
   "cell_type": "code",
   "execution_count": 59,
   "metadata": {},
   "outputs": [
    {
     "data": {
      "image/png": "[encoded data removed]",
      "text/plain": [
       "<Figure size 2000x1000 with 16 Axes>"
      ]
     },
     "metadata": {},
     "output_type": "display_data"
    }
   ],
   "source": [
    "df.hist(figsize=(20,10))\n",
    "plt.show()"
   ]
  },
  {
   "cell_type": "markdown",
   "metadata": {},
   "source": [
    "使用`seaborn`库的箱线图绘制方法,对`DataFrame`中的`data_arc`列进行可视化,绘制出箱线图。\n",
    "\n",
    "箱线图能直观地显示出这一列数据的四分位数范围、上下限范围和异常值,用于快速理解该列数据的分布情况。"
   ]
  },
  {
   "cell_type": "code",
   "execution_count": 60,
   "metadata": {},
   "outputs": [
    {
     "data": {
      "text/plain": [
       "<Axes: >"
      ]
     },
     "execution_count": 60,
     "metadata": {},
     "output_type": "execute_result"
    },
    {
     "data": {
      "image/png": "[encoded data removed]",
      "text/plain": [
       "<Figure size 640x480 with 1 Axes>"
      ]
     },
     "metadata": {},
     "output_type": "display_data"
    }
   ],
   "source": [
    "sns.boxenplot(df['data_arc'])"
   ]
  },
  {
   "cell_type": "markdown",
   "metadata": {},
   "source": [
    "用数据的中位数来补全那些缺失的数据。"
   ]
  },
  {
   "cell_type": "code",
   "execution_count": 62,
   "metadata": {},
   "outputs": [],
   "source": [
    "df['data_arc'] = df['data_arc'].fillna(df['data_arc'].median())"
   ]
  },
  {
   "cell_type": "markdown",
   "metadata": {},
   "source": [
    "最终得到整数和浮点数的特征工程后的结果。"
   ]
  },
  {
   "cell_type": "code",
   "execution_count": 64,
   "metadata": {},
   "outputs": [
    {
     "data": {
      "text/html": [
       "<div>\n",
       "<style scoped>\n",
       "    .dataframe tbody tr th:only-of-type {\n",
       "        vertical-align: middle;\n",
       "    }\n",
       "\n",
       "    .dataframe tbody tr th {\n",
       "        vertical-align: top;\n",
       "    }\n",
       "\n",
       "    .dataframe thead th {\n",
       "        text-align: right;\n",
       "    }\n",
       "</style>\n",
       "<table border=\"1\" class=\"dataframe\">\n",
       "  <thead>\n",
       "    <tr style=\"text-align: right;\">\n",
       "      <th></th>\n",
       "      <th>count</th>\n",
       "      <th>mean</th>\n",
       "      <th>std</th>\n",
       "      <th>min</th>\n",
       "      <th>25%</th>\n",
       "      <th>50%</th>\n",
       "      <th>75%</th>\n",
       "      <th>max</th>\n",
       "    </tr>\n",
       "  </thead>\n",
       "  <tbody>\n",
       "    <tr>\n",
       "      <th>a</th>\n",
       "      <td>137636.0</td>\n",
       "      <td>2.814613</td>\n",
       "      <td>1.522740</td>\n",
       "      <td>0.626226</td>\n",
       "      <td>2.536714</td>\n",
       "      <td>2.750859</td>\n",
       "      <td>3.092537</td>\n",
       "      <td>3.891460e+02</td>\n",
       "    </tr>\n",
       "    <tr>\n",
       "      <th>e</th>\n",
       "      <td>137636.0</td>\n",
       "      <td>0.145485</td>\n",
       "      <td>0.077573</td>\n",
       "      <td>0.000489</td>\n",
       "      <td>0.089623</td>\n",
       "      <td>0.138543</td>\n",
       "      <td>0.191141</td>\n",
       "      <td>9.843482e-01</td>\n",
       "    </tr>\n",
       "    <tr>\n",
       "      <th>i</th>\n",
       "      <td>137636.0</td>\n",
       "      <td>10.349182</td>\n",
       "      <td>6.835111</td>\n",
       "      <td>0.021855</td>\n",
       "      <td>5.120506</td>\n",
       "      <td>9.389963</td>\n",
       "      <td>13.738588</td>\n",
       "      <td>1.703236e+02</td>\n",
       "    </tr>\n",
       "    <tr>\n",
       "      <th>om</th>\n",
       "      <td>137636.0</td>\n",
       "      <td>169.827629</td>\n",
       "      <td>102.713052</td>\n",
       "      <td>0.000738</td>\n",
       "      <td>82.334880</td>\n",
       "      <td>160.438430</td>\n",
       "      <td>256.268387</td>\n",
       "      <td>3.599909e+02</td>\n",
       "    </tr>\n",
       "    <tr>\n",
       "      <th>w</th>\n",
       "      <td>137636.0</td>\n",
       "      <td>181.904551</td>\n",
       "      <td>103.556464</td>\n",
       "      <td>0.004466</td>\n",
       "      <td>91.947943</td>\n",
       "      <td>183.669900</td>\n",
       "      <td>271.762261</td>\n",
       "      <td>3.599952e+02</td>\n",
       "    </tr>\n",
       "    <tr>\n",
       "      <th>q</th>\n",
       "      <td>137636.0</td>\n",
       "      <td>2.402609</td>\n",
       "      <td>0.516169</td>\n",
       "      <td>0.081882</td>\n",
       "      <td>2.068948</td>\n",
       "      <td>2.363897</td>\n",
       "      <td>2.685811</td>\n",
       "      <td>4.046567e+01</td>\n",
       "    </tr>\n",
       "    <tr>\n",
       "      <th>ad</th>\n",
       "      <td>137636.0</td>\n",
       "      <td>3.226618</td>\n",
       "      <td>2.896374</td>\n",
       "      <td>0.999956</td>\n",
       "      <td>2.864438</td>\n",
       "      <td>3.167516</td>\n",
       "      <td>3.468608</td>\n",
       "      <td>7.722011e+02</td>\n",
       "    </tr>\n",
       "    <tr>\n",
       "      <th>per_y</th>\n",
       "      <td>137636.0</td>\n",
       "      <td>4.884248</td>\n",
       "      <td>25.532565</td>\n",
       "      <td>0.495569</td>\n",
       "      <td>4.040317</td>\n",
       "      <td>4.562581</td>\n",
       "      <td>5.438518</td>\n",
       "      <td>7.676743e+03</td>\n",
       "    </tr>\n",
       "    <tr>\n",
       "      <th>data_arc</th>\n",
       "      <td>137636.0</td>\n",
       "      <td>8968.417086</td>\n",
       "      <td>6162.243453</td>\n",
       "      <td>1.000000</td>\n",
       "      <td>6292.000000</td>\n",
       "      <td>7572.000000</td>\n",
       "      <td>9726.000000</td>\n",
       "      <td>7.268400e+04</td>\n",
       "    </tr>\n",
       "    <tr>\n",
       "      <th>condition_code</th>\n",
       "      <td>137636.0</td>\n",
       "      <td>0.485207</td>\n",
       "      <td>1.966078</td>\n",
       "      <td>0.000000</td>\n",
       "      <td>0.000000</td>\n",
       "      <td>0.000000</td>\n",
       "      <td>0.000000</td>\n",
       "      <td>9.000000e+00</td>\n",
       "    </tr>\n",
       "    <tr>\n",
       "      <th>n_obs_used</th>\n",
       "      <td>137636.0</td>\n",
       "      <td>675.027740</td>\n",
       "      <td>595.935104</td>\n",
       "      <td>5.000000</td>\n",
       "      <td>215.000000</td>\n",
       "      <td>496.000000</td>\n",
       "      <td>984.000000</td>\n",
       "      <td>9.325000e+03</td>\n",
       "    </tr>\n",
       "    <tr>\n",
       "      <th>diameter</th>\n",
       "      <td>137636.0</td>\n",
       "      <td>5.483228</td>\n",
       "      <td>9.385735</td>\n",
       "      <td>0.002500</td>\n",
       "      <td>2.770000</td>\n",
       "      <td>3.956000</td>\n",
       "      <td>5.742000</td>\n",
       "      <td>9.394000e+02</td>\n",
       "    </tr>\n",
       "    <tr>\n",
       "      <th>moid</th>\n",
       "      <td>137636.0</td>\n",
       "      <td>1.420145</td>\n",
       "      <td>0.512241</td>\n",
       "      <td>0.000166</td>\n",
       "      <td>1.082523</td>\n",
       "      <td>1.384935</td>\n",
       "      <td>1.699385</td>\n",
       "      <td>3.950700e+01</td>\n",
       "    </tr>\n",
       "    <tr>\n",
       "      <th>n</th>\n",
       "      <td>137636.0</td>\n",
       "      <td>0.219640</td>\n",
       "      <td>0.056980</td>\n",
       "      <td>0.000128</td>\n",
       "      <td>0.181231</td>\n",
       "      <td>0.216024</td>\n",
       "      <td>0.243948</td>\n",
       "      <td>1.988877e+00</td>\n",
       "    </tr>\n",
       "    <tr>\n",
       "      <th>per</th>\n",
       "      <td>137636.0</td>\n",
       "      <td>1783.971577</td>\n",
       "      <td>9325.769217</td>\n",
       "      <td>181.006674</td>\n",
       "      <td>1475.725941</td>\n",
       "      <td>1666.482802</td>\n",
       "      <td>1986.418660</td>\n",
       "      <td>2.803930e+06</td>\n",
       "    </tr>\n",
       "    <tr>\n",
       "      <th>ma</th>\n",
       "      <td>137636.0</td>\n",
       "      <td>183.116785</td>\n",
       "      <td>103.411497</td>\n",
       "      <td>0.000517</td>\n",
       "      <td>94.301261</td>\n",
       "      <td>186.826667</td>\n",
       "      <td>271.468299</td>\n",
       "      <td>3.600000e+02</td>\n",
       "    </tr>\n",
       "  </tbody>\n",
       "</table>\n",
       "</div>"
      ],
      "text/plain": [
       "                   count         mean          std         min          25%  \\\n",
       "a               137636.0     2.814613     1.522740    0.626226     2.536714   \n",
       "e               137636.0     0.145485     0.077573    0.000489     0.089623   \n",
       "i               137636.0    10.349182     6.835111    0.021855     5.120506   \n",
       "om              137636.0   169.827629   102.713052    0.000738    82.334880   \n",
       "w               137636.0   181.904551   103.556464    0.004466    91.947943   \n",
       "q               137636.0     2.402609     0.516169    0.081882     2.068948   \n",
       "ad              137636.0     3.226618     2.896374    0.999956     2.864438   \n",
       "per_y           137636.0     4.884248    25.532565    0.495569     4.040317   \n",
       "data_arc        137636.0  8968.417086  6162.243453    1.000000  6292.000000   \n",
       "condition_code  137636.0     0.485207     1.966078    0.000000     0.000000   \n",
       "n_obs_used      137636.0   675.027740   595.935104    5.000000   215.000000   \n",
       "diameter        137636.0     5.483228     9.385735    0.002500     2.770000   \n",
       "moid            137636.0     1.420145     0.512241    0.000166     1.082523   \n",
       "n               137636.0     0.219640     0.056980    0.000128     0.181231   \n",
       "per             137636.0  1783.971577  9325.769217  181.006674  1475.725941   \n",
       "ma              137636.0   183.116785   103.411497    0.000517    94.301261   \n",
       "\n",
       "                        50%          75%           max  \n",
       "a                  2.750859     3.092537  3.891460e+02  \n",
       "e                  0.138543     0.191141  9.843482e-01  \n",
       "i                  9.389963    13.738588  1.703236e+02  \n",
       "om               160.438430   256.268387  3.599909e+02  \n",
       "w                183.669900   271.762261  3.599952e+02  \n",
       "q                  2.363897     2.685811  4.046567e+01  \n",
       "ad                 3.167516     3.468608  7.722011e+02  \n",
       "per_y              4.562581     5.438518  7.676743e+03  \n",
       "data_arc        7572.000000  9726.000000  7.268400e+04  \n",
       "condition_code     0.000000     0.000000  9.000000e+00  \n",
       "n_obs_used       496.000000   984.000000  9.325000e+03  \n",
       "diameter           3.956000     5.742000  9.394000e+02  \n",
       "moid               1.384935     1.699385  3.950700e+01  \n",
       "n                  0.216024     0.243948  1.988877e+00  \n",
       "per             1666.482802  1986.418660  2.803930e+06  \n",
       "ma               186.826667   271.468299  3.600000e+02  "
      ]
     },
     "execution_count": 64,
     "metadata": {},
     "output_type": "execute_result"
    }
   ],
   "source": [
    "df.describe().T"
   ]
  },
  {
   "cell_type": "code",
   "execution_count": 66,
   "metadata": {},
   "outputs": [
    {
     "name": "stdout",
     "output_type": "stream",
     "text": [
      "<class 'pandas.core.frame.DataFrame'>\n",
      "Index: 137636 entries, 0 to 810375\n",
      "Data columns (total 19 columns):\n",
      " #   Column          Non-Null Count   Dtype  \n",
      "---  ------          --------------   -----  \n",
      " 0   a               137636 non-null  float64\n",
      " 1   e               137636 non-null  float64\n",
      " 2   i               137636 non-null  float64\n",
      " 3   om              137636 non-null  float64\n",
      " 4   w               137636 non-null  float64\n",
      " 5   q               137636 non-null  float64\n",
      " 6   ad              137636 non-null  float64\n",
      " 7   per_y           137636 non-null  float64\n",
      " 8   data_arc        137636 non-null  float64\n",
      " 9   condition_code  137636 non-null  int64  \n",
      " 10  n_obs_used      137636 non-null  int64  \n",
      " 11  neo             137636 non-null  object \n",
      " 12  pha             137636 non-null  object \n",
      " 13  diameter        137636 non-null  float64\n",
      " 14  moid            137636 non-null  float64\n",
      " 15  class           137636 non-null  object \n",
      " 16  n               137636 non-null  float64\n",
      " 17  per             137636 non-null  float64\n",
      " 18  ma              137636 non-null  float64\n",
      "dtypes: float64(14), int64(2), object(3)\n",
      "memory usage: 25.0+ MB\n"
     ]
    }
   ],
   "source": [
    "df.info()"
   ]
  },
  {
   "cell_type": "code",
   "execution_count": 68,
   "metadata": {},
   "outputs": [
    {
     "data": {
      "text/plain": [
       "['neo', 'pha', 'class']"
      ]
     },
     "execution_count": 68,
     "metadata": {},
     "output_type": "execute_result"
    }
   ],
   "source": [
    "data_type = df.dtypes\n",
    "data_type[(data_type=='object')|(data_type=='category')].index.tolist()"
   ]
  },
  {
   "cell_type": "markdown",
   "metadata": {},
   "source": [
    "由于`neo`和`pha`对于实际的回归没有用处，选择丢弃这两个特征。"
   ]
  },
  {
   "cell_type": "code",
   "execution_count": 69,
   "metadata": {},
   "outputs": [],
   "source": [
    "drop_list = ['neo','pha']\n",
    "df.drop(drop_list,axis=1,inplace=True)"
   ]
  },
  {
   "cell_type": "markdown",
   "metadata": {},
   "source": [
    "下面针对`class`属性做进一步的研究。"
   ]
  },
  {
   "cell_type": "code",
   "execution_count": 71,
   "metadata": {},
   "outputs": [
    {
     "data": {
      "text/plain": [
       "CategoricalDtype(categories=['AMO', 'APO', 'AST', 'ATE', 'CEN', 'IMB', 'MBA', 'MCA',\n",
       "                  'OMB', 'TJN', 'TNO'],\n",
       ", ordered=False, categories_dtype=object)"
      ]
     },
     "execution_count": 71,
     "metadata": {},
     "output_type": "execute_result"
    }
   ],
   "source": [
    "df['class'] = df['class'].astype('category')\n",
    "df['class'].dtypes"
   ]
  },
  {
   "cell_type": "code",
   "execution_count": 72,
   "metadata": {},
   "outputs": [],
   "source": [
    "sns.set_palette('inferno',11)"
   ]
  },
  {
   "cell_type": "markdown",
   "metadata": {},
   "source": [
    "展示不同`class`对小行星尺寸的影响。"
   ]
  },
  {
   "cell_type": "code",
   "execution_count": 74,
   "metadata": {},
   "outputs": [
    {
     "data": {
      "image/png": "[encoded data removed]",
      "text/plain": [
       "<Figure size 640x480 with 1 Axes>"
      ]
     },
     "metadata": {},
     "output_type": "display_data"
    }
   ],
   "source": [
    "sns.boxplot(x='class',y='diameter',data=df)\n",
    "plt.yscale('log')"
   ]
  },
  {
   "cell_type": "code",
   "execution_count": 76,
   "metadata": {},
   "outputs": [
    {
     "data": {
      "text/plain": [
       "count    137636.000000\n",
       "mean          5.483228\n",
       "std           9.385735\n",
       "min           0.002500\n",
       "25%           2.770000\n",
       "50%           3.956000\n",
       "75%           5.742000\n",
       "max         939.400000\n",
       "Name: diameter, dtype: float64"
      ]
     },
     "execution_count": 76,
     "metadata": {},
     "output_type": "execute_result"
    }
   ],
   "source": [
    "df['diameter'].describe()"
   ]
  },
  {
   "cell_type": "markdown",
   "metadata": {},
   "source": [
    "从`class`中`diameter`的分布看对应的`diameter`影响"
   ]
  },
  {
   "cell_type": "code",
   "execution_count": 78,
   "metadata": {},
   "outputs": [
    {
     "name": "stdout",
     "output_type": "stream",
     "text": [
      "         diameter                                                            \n",
      "             mean   median     min      max         std           var   count\n",
      "class                                                                        \n",
      "AMO      1.766591   1.0450  0.0880   37.675    2.971932      8.832382     269\n",
      "APO      0.958425   0.6025  0.0025    8.480    1.097541      1.204597     486\n",
      "AST     14.283429  16.4000  2.6560   32.492   10.028549    100.571796       7\n",
      "ATE      0.630716   0.3700  0.0230    3.879    0.702853      0.494002      95\n",
      "CEN     52.473245  28.0000  0.8900  302.000   63.978581   4093.258785      49\n",
      "IMB      2.288675   1.7460  0.7420   11.506    1.470614      2.162706     588\n",
      "MBA      5.076341   3.8340  0.6000  939.400    8.277078     68.510018  126390\n",
      "MCA      3.411217   2.5570  0.5870   42.870    3.512911     12.340547     355\n",
      "OMB      8.783017   6.3565  0.3470  254.000   12.023403    144.562224    7510\n",
      "TJN     20.771467  15.4710  4.5620  225.000   16.487683    271.843695    1874\n",
      "TNO    151.986154  46.4000  6.4200  900.000  243.813592  59445.067426      13\n"
     ]
    }
   ],
   "source": [
    "class_group = df.groupby('class').agg({\n",
    "    'diameter':['mean','median','min','max','std','var','count']\n",
    "})\n",
    "print(class_group)"
   ]
  },
  {
   "cell_type": "markdown",
   "metadata": {},
   "source": [
    "`Condition Code`部分"
   ]
  },
  {
   "cell_type": "code",
   "execution_count": 81,
   "metadata": {},
   "outputs": [
    {
     "data": {
      "image/png": "[encoded data removed]",
      "text/plain": [
       "<Figure size 640x480 with 1 Axes>"
      ]
     },
     "metadata": {},
     "output_type": "display_data"
    }
   ],
   "source": [
    "sns.boxplot(x='condition_code', y='diameter', data=df)\n",
    "plt.title('Diameter by Condition Code')\n",
    "plt.yscale('log');"
   ]
  },
  {
   "cell_type": "code",
   "execution_count": 85,
   "metadata": {},
   "outputs": [],
   "source": [
    "# df.drop('condition_code',axis=1,inplace=True)\n",
    "df.drop('class',axis=1,inplace=True)"
   ]
  },
  {
   "cell_type": "markdown",
   "metadata": {},
   "source": [
    "研究数值特征之间的关系。"
   ]
  },
  {
   "cell_type": "code",
   "execution_count": 86,
   "metadata": {},
   "outputs": [
    {
     "data": {
      "image/png": "[encoded data removed]",
      "text/plain": [
       "<Figure size 2000x1000 with 2 Axes>"
      ]
     },
     "metadata": {},
     "output_type": "display_data"
    }
   ],
   "source": [
    "plt.figure(figsize=(20,10))\n",
    "sns.set(font_scale=1.4)\n",
    "sns.heatmap(df.corr(),annot=True, cmap='inferno', fmt='.2f', annot_kws={'size':14});"
   ]
  }
 ],
 "metadata": {
  "kernelspec": {
   "display_name": "base",
   "language": "python",
   "name": "python3"
  },
  "language_info": {
   "codemirror_mode": {
    "name": "ipython",
    "version": 3
   },
   "file_extension": ".py",
   "mimetype": "text/x-python",
   "name": "python",
   "nbconvert_exporter": "python",
   "pygments_lexer": "ipython3",
   "version": "3.9.18"
  },
  "orig_nbformat": 4
 },
 "nbformat": 4,
 "nbformat_minor": 2
}
